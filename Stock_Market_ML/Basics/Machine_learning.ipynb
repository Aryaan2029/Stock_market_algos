{
 "cells": [
  {
   "cell_type": "code",
   "execution_count": 4,
   "metadata": {},
   "outputs": [],
   "source": [
    "import numpy as np\n",
    "import pandas as pd\n",
    "from collections import Counter"
   ]
  },
  {
   "cell_type": "code",
   "execution_count": 10,
   "metadata": {},
   "outputs": [],
   "source": [
    "def process_data_for_labels(ticker):\n",
    "    days = 7\n",
    "    df = pd.read_csv('sp500all.csv', index_col = 0)\n",
    "    tickers = df.columns.values.tolist()\n",
    "    df.fillna(0 , inplace = True)\n",
    "    for i in range(1, days + 1):\n",
    "        df['{}_{}d'.format(ticker, i)] = (df[ticker].shift(-i) - df[ticker]) / df[ticker]\n",
    "    \n",
    "    df.fillna(0, inplace = True)\n",
    "    return df, tickers\n",
    "        "
   ]
  },
  {
   "cell_type": "code",
   "execution_count": 11,
   "metadata": {},
   "outputs": [],
   "source": [
    "def buy_sell_hold(*args):\n",
    "    cols = [c for c in args]\n",
    "    requirement = 0.02\n",
    "    for col in cols:\n",
    "        if col > requirement:\n",
    "            return 1\n",
    "        if col < -requirement:\n",
    "            return -1\n",
    "    return 0\n"
   ]
  },
  {
   "cell_type": "code",
   "execution_count": 12,
   "metadata": {},
   "outputs": [],
   "source": [
    "def extract_feature_sets(ticker):\n",
    "    df, tickers = process_data_for_labels(ticker)\n",
    "    df['{}_target'.format(ticker)] = list(map(buy_sell_hold,\n",
    "                                              df['{}_1d'.format(ticker)],\n",
    "                                              df['{}_2d'.format(ticker)],\n",
    "                                              df['{}_3d'.format(ticker)],\n",
    "                                              df['{}_4d'.format(ticker)],\n",
    "                                              df['{}_5d'.format(ticker)],\n",
    "                                              df['{}_6d'.format(ticker)],\n",
    "                                              df['{}_7d'.format(ticker)]\n",
    "                                             ))\n",
    "    vals = df['{}_target'.format(ticker)].values.tolist()\n",
    "    str_vals = [str(i) for i in vals]\n",
    "    print('Data spread: ', Counter(str_vals))\n",
    "    df.fillna(0 , inplace = True)\n",
    "    df = df.replace([np.inf, -np.inf], np.nan)\n",
    "    df.dropna(inplace = True)\n",
    "    \n",
    "    df_vals = df[[ticker for ticker in tickers]].pct_change()\n",
    "    df_vals = df_vals.replace([np.inf, -np.inf], np.nan)\n",
    "    df_vals.fillna(0 , inplace = True)\n",
    "    \n",
    "    X = df_vals.values\n",
    "    y = df['{}_target'.format(ticker)].values\n",
    "    return X, y, df"
   ]
  },
  {
   "cell_type": "code",
   "execution_count": 13,
   "metadata": {},
   "outputs": [
    {
     "name": "stdout",
     "output_type": "stream",
     "text": [
      "Data spread:  Counter({'1': 862, '-1': 650, '0': 383})\n"
     ]
    },
    {
     "data": {
      "text/plain": [
       "(array([[ 0.        ,  0.        ,  0.        , ...,  0.        ,\n",
       "          0.        ,  0.        ],\n",
       "        [ 0.02078633,  0.01982699,  0.        , ...,  0.0673139 ,\n",
       "          0.02342341,  0.        ],\n",
       "        [-0.00116061,  0.03806564, -0.00825739, ..., -0.01569215,\n",
       "          0.02711269,  0.        ],\n",
       "        ...,\n",
       "        [-0.00155022,  0.00129789, -0.00070458, ..., -0.03965854,\n",
       "          0.01339603,  0.00431156],\n",
       "        [-0.02024845,  0.01177356, -0.01349714, ...,  0.00435186,\n",
       "         -0.01548198, -0.01912381],\n",
       "        [ 0.00924404, -0.00672571, -0.01133348, ...,  0.00322668,\n",
       "         -0.00288229,  0.00974837]]),\n",
       " array([1, 1, 1, ..., 0, 0, 0]),\n",
       "                    MMM        ABT       ABBV        ABMD         ACN  \\\n",
       " Date                                                                   \n",
       " 2012-12-31   76.014526  27.044691   0.000000   13.440000   56.649178   \n",
       " 2013-01-02   77.594589  27.580906  25.678120   13.690000   58.829960   \n",
       " 2013-01-03   77.504532  28.630791  25.466085   13.450000   58.617001   \n",
       " 2013-01-04   78.077629  28.458672  25.144379   13.410000   58.940701   \n",
       " 2013-01-07   78.175842  28.691023  25.195559   13.250000   58.685146   \n",
       " ...                ...        ...        ...         ...         ...   \n",
       " 2020-07-06  158.100006  92.970001  99.010002  266.209991  217.550003   \n",
       " 2020-07-07  154.820007  92.459999  99.349998  264.589996  216.330002   \n",
       " 2020-07-08  154.580002  92.580002  99.279999  265.640015  218.889999   \n",
       " 2020-07-09  151.449997  93.669998  97.940002  265.679993  219.309998   \n",
       " 2020-07-10  152.850006  93.040001  96.830002  264.510010  220.259995   \n",
       " \n",
       "                  ATVI        ADBE        AMD         AAP        AES  ...  \\\n",
       " Date                                                                 ...   \n",
       " 2012-12-31   9.934611   37.680000   2.400000   70.972847   8.384384  ...   \n",
       " 2013-01-02  10.243313   38.340000   2.530000   71.110153   8.619459  ...   \n",
       " 2013-01-03  10.299441   37.750000   2.490000   71.110153   8.572444  ...   \n",
       " 2013-01-04  10.449116   38.130001   2.590000   72.218658   8.776177  ...   \n",
       " 2013-01-07  10.458469   37.939999   2.670000   71.973434   8.501926  ...   \n",
       " ...               ...         ...        ...         ...        ...  ...   \n",
       " 2020-07-06  78.669998  452.589996  53.400002  138.960007  14.470000  ...   \n",
       " 2020-07-07  78.500000  449.359985  52.930000  136.679993  14.140000  ...   \n",
       " 2020-07-08  79.279999  457.679993  53.430000  136.449997  14.440000  ...   \n",
       " 2020-07-09  80.639999  460.839996  57.259998  133.750000  13.920000  ...   \n",
       " 2020-07-10  81.269997  466.200012  55.880001  134.449997  14.360000  ...   \n",
       " \n",
       "                   ALGN        ALLE      A_1d      A_2d      A_3d      A_4d  \\\n",
       " Date                                                                         \n",
       " 2012-12-31   27.750000    0.000000  0.022960  0.026624  0.046898  0.039326   \n",
       " 2013-01-02   28.400000    0.000000  0.003582  0.023400  0.015998  0.007880   \n",
       " 2013-01-03   29.170000    0.000000  0.019748  0.012372  0.004283  0.031406   \n",
       " 2013-01-04   29.309999    0.000000 -0.007233 -0.015166  0.011433  0.018899   \n",
       " 2013-01-07   28.940001    0.000000 -0.007991  0.018801  0.026322  0.020682   \n",
       " ...                ...         ...       ...       ...       ...       ...   \n",
       " 2020-07-06  282.440002  103.970001 -0.001120  0.002575  0.006830  0.001232   \n",
       " 2020-07-07  274.709991  102.050003  0.003699  0.007959  0.002354  0.000000   \n",
       " 2020-07-08  278.390015  102.489998  0.004244 -0.001340  0.000000  0.000000   \n",
       " 2020-07-09  274.079987  100.529999 -0.005560  0.000000  0.000000  0.000000   \n",
       " 2020-07-10  273.290009  101.510002  0.000000  0.000000  0.000000  0.000000   \n",
       " \n",
       "                 A_5d      A_6d      A_7d  A_target  \n",
       " Date                                                \n",
       " 2012-12-31  0.031021  0.058867  0.066683         1  \n",
       " 2013-01-02  0.035100  0.042741  0.037011         1  \n",
       " 2013-01-03  0.039020  0.033310  0.035927         1  \n",
       " 2013-01-04  0.013299  0.015866  0.008866         0  \n",
       " 2013-01-07  0.023267  0.016216  0.011751         1  \n",
       " ...              ...       ...       ...       ...  \n",
       " 2020-07-06  0.000000  0.000000  0.000000         0  \n",
       " 2020-07-07  0.000000  0.000000  0.000000         0  \n",
       " 2020-07-08  0.000000  0.000000  0.000000         0  \n",
       " 2020-07-09  0.000000  0.000000  0.000000         0  \n",
       " 2020-07-10  0.000000  0.000000  0.000000         0  \n",
       " \n",
       " [1895 rows x 28 columns])"
      ]
     },
     "execution_count": 13,
     "metadata": {},
     "output_type": "execute_result"
    }
   ],
   "source": [
    "extract_feature_sets('A')"
   ]
  },
  {
   "cell_type": "code",
   "execution_count": 16,
   "metadata": {},
   "outputs": [],
   "source": [
    "from sklearn import svm, model_selection as cross_validation, neighbors\n",
    "from sklearn.ensemble import VotingClassifier, RandomForestClassifier"
   ]
  },
  {
   "cell_type": "code",
   "execution_count": 30,
   "metadata": {},
   "outputs": [],
   "source": [
    "def do_ml(ticker):\n",
    "    X, y, df = extract_feature_sets(ticker)\n",
    "    X_train, X_test, y_train, y_test = cross_validation.train_test_split(X, y, test_size = 0.25)\n",
    "    \n",
    "    clf = VotingClassifier([('lsvc', svm.LinearSVC()),\n",
    "                           ('knn', neighbors.KNeighborsClassifier()),\n",
    "                           ('rfor', RandomForestClassifier())\n",
    "                           ])\n",
    "    \n",
    "    clf.fit(X_train, y_train)\n",
    "    confidence = clf.score(X_test, y_test)\n",
    "    print('Accuracy: ', confidence)\n",
    "    predictions = clf.predict(X_test)\n",
    "    print('Predicted spread: ', Counter(predictions))\n",
    "    \n",
    "    return confidence"
   ]
  },
  {
   "cell_type": "code",
   "execution_count": 32,
   "metadata": {},
   "outputs": [
    {
     "name": "stdout",
     "output_type": "stream",
     "text": [
      "Data spread:  Counter({'0': 700, '1': 673, '-1': 522})\n",
      "Accuracy:  0.41983122362869196\n",
      "Predicted spread:  Counter({0: 228, 1: 163, -1: 83})\n"
     ]
    },
    {
     "data": {
      "text/plain": [
       "0.41983122362869196"
      ]
     },
     "execution_count": 32,
     "metadata": {},
     "output_type": "execute_result"
    }
   ],
   "source": [
    "do_ml('MMM')"
   ]
  },
  {
   "cell_type": "code",
   "execution_count": null,
   "metadata": {},
   "outputs": [],
   "source": []
  }
 ],
 "metadata": {
  "kernelspec": {
   "display_name": "Python 3",
   "language": "python",
   "name": "python3"
  },
  "language_info": {
   "codemirror_mode": {
    "name": "ipython",
    "version": 3
   },
   "file_extension": ".py",
   "mimetype": "text/x-python",
   "name": "python",
   "nbconvert_exporter": "python",
   "pygments_lexer": "ipython3",
   "version": "3.7.6"
  }
 },
 "nbformat": 4,
 "nbformat_minor": 4
}
